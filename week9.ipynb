{
  "nbformat": 4,
  "nbformat_minor": 0,
  "metadata": {
    "colab": {
      "provenance": [],
      "authorship_tag": "ABX9TyNTBQkMOQ6tQ/aSrQtox9Fw",
      "include_colab_link": true
    },
    "kernelspec": {
      "name": "python3",
      "display_name": "Python 3"
    },
    "language_info": {
      "name": "python"
    }
  },
  "cells": [
    {
      "cell_type": "markdown",
      "metadata": {
        "id": "view-in-github",
        "colab_type": "text"
      },
      "source": [
        "<a href=\"https://colab.research.google.com/github/Lahari033/SRU_Batch-17-18/blob/main/week9.ipynb\" target=\"_parent\"><img src=\"https://colab.research.google.com/assets/colab-badge.svg\" alt=\"Open In Colab\"/></a>"
      ]
    },
    {
      "cell_type": "markdown",
      "source": [
        "week-9\n"
      ],
      "metadata": {
        "id": "a38Un0BO77qF"
      }
    },
    {
      "cell_type": "code",
      "source": [
        "import pandas as pd\n",
        "import plotly.graph_objects as go\n",
        "from plotly.subplots import make_subplots\n",
        "\n",
        "data = pd.DataFrame({\n",
        "    'category': ['Electronics', 'Clothing']*50,\n",
        "    'region': ['North', 'South', 'East', 'West']*25,\n",
        "    'sales_volume': [100, 200, 150, 300]*25,\n",
        "    'revenue': [5000, 8000, 6000, 12000]*25,\n",
        "    'customer_rating': [4.5, 3.8, 4.2, 4.0]*25,\n",
        "    'month': ['Jan', 'Feb', 'Mar', 'Apr']*25\n",
        "})\n",
        "\n",
        "fig = make_subplots(\n",
        "    rows=2, cols=1,\n",
        "    subplot_titles=(\"Sales Volume vs Revenue by Region\", \"Seasonal Trends by Category\"),\n",
        "    row_heights=[0.6, 0.4]\n",
        ")\n",
        "\n",
        "scatter = go.Scatter(\n",
        "    x=data['sales_volume'],\n",
        "    y=data['revenue'],\n",
        "    mode='markers',\n",
        "    marker=dict(color=data['region'].astype('category').cat.codes, size=12, showscale=True),\n",
        "    text=[f\"Region: {r}<br>Rating: {cr}\" for r, cr in zip(data['region'], data['customer_rating'])],\n",
        "    hoverinfo='text'\n",
        ")\n",
        "fig.add_trace(scatter, row=1, col=1)\n",
        "\n",
        "heatmap_data = data.pivot_table(index='category', columns='month', values='revenue', aggfunc='sum')\n",
        "heatmap = go.Heatmap(\n",
        "    z=heatmap_data.values,\n",
        "    x=heatmap_data.columns,\n",
        "    y=heatmap_data.index,\n",
        "    colorscale='Viridis',\n",
        "    hovertemplate=\"Category: %{y}<br>Month: %{x}<br>Revenue: %{z}<extra></extra>\"\n",
        ")\n",
        "fig.add_trace(heatmap, row=2, col=1)\n",
        "\n",
        "months = data['month'].unique()\n",
        "dropdown_buttons = [\n",
        "    dict(\n",
        "        args=[{\"x\": [data[data['month']==m]['sales_volume']],\n",
        "               \"y\": [data[data['month']==m]['revenue']],\n",
        "               \"text\": [[f\"Region: {r}<br>Rating: {cr}\"\n",
        "                         for r, cr in zip(data[data['month']==m]['region'],\n",
        "                                           data[data['month']==m]['customer_rating'])]]}],\n",
        "        label=m,\n",
        "        method=\"update\"\n",
        "    )\n",
        "    for m in months\n",
        "]\n",
        "\n",
        "fig.update_layout(\n",
        "    updatemenus=[dict(active=0, buttons=dropdown_buttons, x=1.1, y=1.15)],\n",
        "    height=700,\n",
        "    title_text=\"E-commerce Sales Dashboard\"\n",
        ")\n",
        "\n",
        "fig.show()\n"
      ],
      "metadata": {
        "colab": {
          "base_uri": "https://localhost:8080/",
          "height": 717
        },
        "id": "b2gjbdUp8XGu",
        "outputId": "a35ef8a6-f95c-48e0-d756-8662a2b3af15"
      },
      "execution_count": 2,
      "outputs": [
        {
          "output_type": "display_data",
          "data": {
            "text/html": [
              "<html>\n",
              "<head><meta charset=\"utf-8\" /></head>\n",
              "<body>\n",
              "    <div>            <script src=\"https://cdnjs.cloudflare.com/ajax/libs/mathjax/2.7.5/MathJax.js?config=TeX-AMS-MML_SVG\"></script><script type=\"text/javascript\">if (window.MathJax && window.MathJax.Hub && window.MathJax.Hub.Config) {window.MathJax.Hub.Config({SVG: {font: \"STIX-Web\"}});}</script>                <script type=\"text/javascript\">window.PlotlyConfig = {MathJaxConfig: 'local'};</script>\n",
              "        <script charset=\"utf-8\" src=\"https://cdn.plot.ly/plotly-2.35.2.min.js\"></script>                <div id=\"299acd56-9f8f-4914-9849-afb1639a4198\" class=\"plotly-graph-div\" style=\"height:700px; width:100%;\"></div>            <script type=\"text/javascript\">                                    window.PLOTLYENV=window.PLOTLYENV || {};                                    if (document.getElementById(\"299acd56-9f8f-4914-9849-afb1639a4198\")) {                    Plotly.newPlot(                        \"299acd56-9f8f-4914-9849-afb1639a4198\",                        [{\"hoverinfo\":\"text\",\"marker\":{\"color\":[1,2,0,3,1,2,0,3,1,2,0,3,1,2,0,3,1,2,0,3,1,2,0,3,1,2,0,3,1,2,0,3,1,2,0,3,1,2,0,3,1,2,0,3,1,2,0,3,1,2,0,3,1,2,0,3,1,2,0,3,1,2,0,3,1,2,0,3,1,2,0,3,1,2,0,3,1,2,0,3,1,2,0,3,1,2,0,3,1,2,0,3,1,2,0,3,1,2,0,3],\"showscale\":true,\"size\":12},\"mode\":\"markers\",\"text\":[\"Region: North\\u003cbr\\u003eRating: 4.5\",\"Region: South\\u003cbr\\u003eRating: 3.8\",\"Region: East\\u003cbr\\u003eRating: 4.2\",\"Region: West\\u003cbr\\u003eRating: 4.0\",\"Region: North\\u003cbr\\u003eRating: 4.5\",\"Region: South\\u003cbr\\u003eRating: 3.8\",\"Region: East\\u003cbr\\u003eRating: 4.2\",\"Region: West\\u003cbr\\u003eRating: 4.0\",\"Region: North\\u003cbr\\u003eRating: 4.5\",\"Region: South\\u003cbr\\u003eRating: 3.8\",\"Region: East\\u003cbr\\u003eRating: 4.2\",\"Region: West\\u003cbr\\u003eRating: 4.0\",\"Region: North\\u003cbr\\u003eRating: 4.5\",\"Region: South\\u003cbr\\u003eRating: 3.8\",\"Region: East\\u003cbr\\u003eRating: 4.2\",\"Region: West\\u003cbr\\u003eRating: 4.0\",\"Region: North\\u003cbr\\u003eRating: 4.5\",\"Region: South\\u003cbr\\u003eRating: 3.8\",\"Region: East\\u003cbr\\u003eRating: 4.2\",\"Region: West\\u003cbr\\u003eRating: 4.0\",\"Region: North\\u003cbr\\u003eRating: 4.5\",\"Region: South\\u003cbr\\u003eRating: 3.8\",\"Region: East\\u003cbr\\u003eRating: 4.2\",\"Region: West\\u003cbr\\u003eRating: 4.0\",\"Region: North\\u003cbr\\u003eRating: 4.5\",\"Region: South\\u003cbr\\u003eRating: 3.8\",\"Region: East\\u003cbr\\u003eRating: 4.2\",\"Region: West\\u003cbr\\u003eRating: 4.0\",\"Region: North\\u003cbr\\u003eRating: 4.5\",\"Region: South\\u003cbr\\u003eRating: 3.8\",\"Region: East\\u003cbr\\u003eRating: 4.2\",\"Region: West\\u003cbr\\u003eRating: 4.0\",\"Region: North\\u003cbr\\u003eRating: 4.5\",\"Region: South\\u003cbr\\u003eRating: 3.8\",\"Region: East\\u003cbr\\u003eRating: 4.2\",\"Region: West\\u003cbr\\u003eRating: 4.0\",\"Region: North\\u003cbr\\u003eRating: 4.5\",\"Region: South\\u003cbr\\u003eRating: 3.8\",\"Region: East\\u003cbr\\u003eRating: 4.2\",\"Region: West\\u003cbr\\u003eRating: 4.0\",\"Region: North\\u003cbr\\u003eRating: 4.5\",\"Region: South\\u003cbr\\u003eRating: 3.8\",\"Region: East\\u003cbr\\u003eRating: 4.2\",\"Region: West\\u003cbr\\u003eRating: 4.0\",\"Region: North\\u003cbr\\u003eRating: 4.5\",\"Region: South\\u003cbr\\u003eRating: 3.8\",\"Region: East\\u003cbr\\u003eRating: 4.2\",\"Region: West\\u003cbr\\u003eRating: 4.0\",\"Region: North\\u003cbr\\u003eRating: 4.5\",\"Region: South\\u003cbr\\u003eRating: 3.8\",\"Region: East\\u003cbr\\u003eRating: 4.2\",\"Region: West\\u003cbr\\u003eRating: 4.0\",\"Region: North\\u003cbr\\u003eRating: 4.5\",\"Region: South\\u003cbr\\u003eRating: 3.8\",\"Region: East\\u003cbr\\u003eRating: 4.2\",\"Region: West\\u003cbr\\u003eRating: 4.0\",\"Region: North\\u003cbr\\u003eRating: 4.5\",\"Region: South\\u003cbr\\u003eRating: 3.8\",\"Region: East\\u003cbr\\u003eRating: 4.2\",\"Region: West\\u003cbr\\u003eRating: 4.0\",\"Region: North\\u003cbr\\u003eRating: 4.5\",\"Region: South\\u003cbr\\u003eRating: 3.8\",\"Region: East\\u003cbr\\u003eRating: 4.2\",\"Region: West\\u003cbr\\u003eRating: 4.0\",\"Region: North\\u003cbr\\u003eRating: 4.5\",\"Region: South\\u003cbr\\u003eRating: 3.8\",\"Region: East\\u003cbr\\u003eRating: 4.2\",\"Region: West\\u003cbr\\u003eRating: 4.0\",\"Region: North\\u003cbr\\u003eRating: 4.5\",\"Region: South\\u003cbr\\u003eRating: 3.8\",\"Region: East\\u003cbr\\u003eRating: 4.2\",\"Region: West\\u003cbr\\u003eRating: 4.0\",\"Region: North\\u003cbr\\u003eRating: 4.5\",\"Region: South\\u003cbr\\u003eRating: 3.8\",\"Region: East\\u003cbr\\u003eRating: 4.2\",\"Region: West\\u003cbr\\u003eRating: 4.0\",\"Region: North\\u003cbr\\u003eRating: 4.5\",\"Region: South\\u003cbr\\u003eRating: 3.8\",\"Region: East\\u003cbr\\u003eRating: 4.2\",\"Region: West\\u003cbr\\u003eRating: 4.0\",\"Region: North\\u003cbr\\u003eRating: 4.5\",\"Region: South\\u003cbr\\u003eRating: 3.8\",\"Region: East\\u003cbr\\u003eRating: 4.2\",\"Region: West\\u003cbr\\u003eRating: 4.0\",\"Region: North\\u003cbr\\u003eRating: 4.5\",\"Region: South\\u003cbr\\u003eRating: 3.8\",\"Region: East\\u003cbr\\u003eRating: 4.2\",\"Region: West\\u003cbr\\u003eRating: 4.0\",\"Region: North\\u003cbr\\u003eRating: 4.5\",\"Region: South\\u003cbr\\u003eRating: 3.8\",\"Region: East\\u003cbr\\u003eRating: 4.2\",\"Region: West\\u003cbr\\u003eRating: 4.0\",\"Region: North\\u003cbr\\u003eRating: 4.5\",\"Region: South\\u003cbr\\u003eRating: 3.8\",\"Region: East\\u003cbr\\u003eRating: 4.2\",\"Region: West\\u003cbr\\u003eRating: 4.0\",\"Region: North\\u003cbr\\u003eRating: 4.5\",\"Region: South\\u003cbr\\u003eRating: 3.8\",\"Region: East\\u003cbr\\u003eRating: 4.2\",\"Region: West\\u003cbr\\u003eRating: 4.0\"],\"x\":[100,200,150,300,100,200,150,300,100,200,150,300,100,200,150,300,100,200,150,300,100,200,150,300,100,200,150,300,100,200,150,300,100,200,150,300,100,200,150,300,100,200,150,300,100,200,150,300,100,200,150,300,100,200,150,300,100,200,150,300,100,200,150,300,100,200,150,300,100,200,150,300,100,200,150,300,100,200,150,300,100,200,150,300,100,200,150,300,100,200,150,300,100,200,150,300,100,200,150,300],\"y\":[5000,8000,6000,12000,5000,8000,6000,12000,5000,8000,6000,12000,5000,8000,6000,12000,5000,8000,6000,12000,5000,8000,6000,12000,5000,8000,6000,12000,5000,8000,6000,12000,5000,8000,6000,12000,5000,8000,6000,12000,5000,8000,6000,12000,5000,8000,6000,12000,5000,8000,6000,12000,5000,8000,6000,12000,5000,8000,6000,12000,5000,8000,6000,12000,5000,8000,6000,12000,5000,8000,6000,12000,5000,8000,6000,12000,5000,8000,6000,12000,5000,8000,6000,12000,5000,8000,6000,12000,5000,8000,6000,12000,5000,8000,6000,12000,5000,8000,6000,12000],\"type\":\"scatter\",\"xaxis\":\"x\",\"yaxis\":\"y\"},{\"colorscale\":[[0.0,\"#440154\"],[0.1111111111111111,\"#482878\"],[0.2222222222222222,\"#3e4989\"],[0.3333333333333333,\"#31688e\"],[0.4444444444444444,\"#26828e\"],[0.5555555555555556,\"#1f9e89\"],[0.6666666666666666,\"#35b779\"],[0.7777777777777778,\"#6ece58\"],[0.8888888888888888,\"#b5de2b\"],[1.0,\"#fde725\"]],\"hovertemplate\":\"Category: %{y}\\u003cbr\\u003eMonth: %{x}\\u003cbr\\u003eRevenue: %{z}\\u003cextra\\u003e\\u003c\\u002fextra\\u003e\",\"x\":[\"Apr\",\"Feb\",\"Jan\",\"Mar\"],\"y\":[\"Clothing\",\"Electronics\"],\"z\":[[300000.0,200000.0,null,null],[null,null,125000.0,150000.0]],\"type\":\"heatmap\",\"xaxis\":\"x2\",\"yaxis\":\"y2\"}],                        {\"template\":{\"data\":{\"histogram2dcontour\":[{\"type\":\"histogram2dcontour\",\"colorbar\":{\"outlinewidth\":0,\"ticks\":\"\"},\"colorscale\":[[0.0,\"#0d0887\"],[0.1111111111111111,\"#46039f\"],[0.2222222222222222,\"#7201a8\"],[0.3333333333333333,\"#9c179e\"],[0.4444444444444444,\"#bd3786\"],[0.5555555555555556,\"#d8576b\"],[0.6666666666666666,\"#ed7953\"],[0.7777777777777778,\"#fb9f3a\"],[0.8888888888888888,\"#fdca26\"],[1.0,\"#f0f921\"]]}],\"choropleth\":[{\"type\":\"choropleth\",\"colorbar\":{\"outlinewidth\":0,\"ticks\":\"\"}}],\"histogram2d\":[{\"type\":\"histogram2d\",\"colorbar\":{\"outlinewidth\":0,\"ticks\":\"\"},\"colorscale\":[[0.0,\"#0d0887\"],[0.1111111111111111,\"#46039f\"],[0.2222222222222222,\"#7201a8\"],[0.3333333333333333,\"#9c179e\"],[0.4444444444444444,\"#bd3786\"],[0.5555555555555556,\"#d8576b\"],[0.6666666666666666,\"#ed7953\"],[0.7777777777777778,\"#fb9f3a\"],[0.8888888888888888,\"#fdca26\"],[1.0,\"#f0f921\"]]}],\"heatmap\":[{\"type\":\"heatmap\",\"colorbar\":{\"outlinewidth\":0,\"ticks\":\"\"},\"colorscale\":[[0.0,\"#0d0887\"],[0.1111111111111111,\"#46039f\"],[0.2222222222222222,\"#7201a8\"],[0.3333333333333333,\"#9c179e\"],[0.4444444444444444,\"#bd3786\"],[0.5555555555555556,\"#d8576b\"],[0.6666666666666666,\"#ed7953\"],[0.7777777777777778,\"#fb9f3a\"],[0.8888888888888888,\"#fdca26\"],[1.0,\"#f0f921\"]]}],\"heatmapgl\":[{\"type\":\"heatmapgl\",\"colorbar\":{\"outlinewidth\":0,\"ticks\":\"\"},\"colorscale\":[[0.0,\"#0d0887\"],[0.1111111111111111,\"#46039f\"],[0.2222222222222222,\"#7201a8\"],[0.3333333333333333,\"#9c179e\"],[0.4444444444444444,\"#bd3786\"],[0.5555555555555556,\"#d8576b\"],[0.6666666666666666,\"#ed7953\"],[0.7777777777777778,\"#fb9f3a\"],[0.8888888888888888,\"#fdca26\"],[1.0,\"#f0f921\"]]}],\"contourcarpet\":[{\"type\":\"contourcarpet\",\"colorbar\":{\"outlinewidth\":0,\"ticks\":\"\"}}],\"contour\":[{\"type\":\"contour\",\"colorbar\":{\"outlinewidth\":0,\"ticks\":\"\"},\"colorscale\":[[0.0,\"#0d0887\"],[0.1111111111111111,\"#46039f\"],[0.2222222222222222,\"#7201a8\"],[0.3333333333333333,\"#9c179e\"],[0.4444444444444444,\"#bd3786\"],[0.5555555555555556,\"#d8576b\"],[0.6666666666666666,\"#ed7953\"],[0.7777777777777778,\"#fb9f3a\"],[0.8888888888888888,\"#fdca26\"],[1.0,\"#f0f921\"]]}],\"surface\":[{\"type\":\"surface\",\"colorbar\":{\"outlinewidth\":0,\"ticks\":\"\"},\"colorscale\":[[0.0,\"#0d0887\"],[0.1111111111111111,\"#46039f\"],[0.2222222222222222,\"#7201a8\"],[0.3333333333333333,\"#9c179e\"],[0.4444444444444444,\"#bd3786\"],[0.5555555555555556,\"#d8576b\"],[0.6666666666666666,\"#ed7953\"],[0.7777777777777778,\"#fb9f3a\"],[0.8888888888888888,\"#fdca26\"],[1.0,\"#f0f921\"]]}],\"mesh3d\":[{\"type\":\"mesh3d\",\"colorbar\":{\"outlinewidth\":0,\"ticks\":\"\"}}],\"scatter\":[{\"fillpattern\":{\"fillmode\":\"overlay\",\"size\":10,\"solidity\":0.2},\"type\":\"scatter\"}],\"parcoords\":[{\"type\":\"parcoords\",\"line\":{\"colorbar\":{\"outlinewidth\":0,\"ticks\":\"\"}}}],\"scatterpolargl\":[{\"type\":\"scatterpolargl\",\"marker\":{\"colorbar\":{\"outlinewidth\":0,\"ticks\":\"\"}}}],\"bar\":[{\"error_x\":{\"color\":\"#2a3f5f\"},\"error_y\":{\"color\":\"#2a3f5f\"},\"marker\":{\"line\":{\"color\":\"#E5ECF6\",\"width\":0.5},\"pattern\":{\"fillmode\":\"overlay\",\"size\":10,\"solidity\":0.2}},\"type\":\"bar\"}],\"scattergeo\":[{\"type\":\"scattergeo\",\"marker\":{\"colorbar\":{\"outlinewidth\":0,\"ticks\":\"\"}}}],\"scatterpolar\":[{\"type\":\"scatterpolar\",\"marker\":{\"colorbar\":{\"outlinewidth\":0,\"ticks\":\"\"}}}],\"histogram\":[{\"marker\":{\"pattern\":{\"fillmode\":\"overlay\",\"size\":10,\"solidity\":0.2}},\"type\":\"histogram\"}],\"scattergl\":[{\"type\":\"scattergl\",\"marker\":{\"colorbar\":{\"outlinewidth\":0,\"ticks\":\"\"}}}],\"scatter3d\":[{\"type\":\"scatter3d\",\"line\":{\"colorbar\":{\"outlinewidth\":0,\"ticks\":\"\"}},\"marker\":{\"colorbar\":{\"outlinewidth\":0,\"ticks\":\"\"}}}],\"scattermapbox\":[{\"type\":\"scattermapbox\",\"marker\":{\"colorbar\":{\"outlinewidth\":0,\"ticks\":\"\"}}}],\"scatterternary\":[{\"type\":\"scatterternary\",\"marker\":{\"colorbar\":{\"outlinewidth\":0,\"ticks\":\"\"}}}],\"scattercarpet\":[{\"type\":\"scattercarpet\",\"marker\":{\"colorbar\":{\"outlinewidth\":0,\"ticks\":\"\"}}}],\"carpet\":[{\"aaxis\":{\"endlinecolor\":\"#2a3f5f\",\"gridcolor\":\"white\",\"linecolor\":\"white\",\"minorgridcolor\":\"white\",\"startlinecolor\":\"#2a3f5f\"},\"baxis\":{\"endlinecolor\":\"#2a3f5f\",\"gridcolor\":\"white\",\"linecolor\":\"white\",\"minorgridcolor\":\"white\",\"startlinecolor\":\"#2a3f5f\"},\"type\":\"carpet\"}],\"table\":[{\"cells\":{\"fill\":{\"color\":\"#EBF0F8\"},\"line\":{\"color\":\"white\"}},\"header\":{\"fill\":{\"color\":\"#C8D4E3\"},\"line\":{\"color\":\"white\"}},\"type\":\"table\"}],\"barpolar\":[{\"marker\":{\"line\":{\"color\":\"#E5ECF6\",\"width\":0.5},\"pattern\":{\"fillmode\":\"overlay\",\"size\":10,\"solidity\":0.2}},\"type\":\"barpolar\"}],\"pie\":[{\"automargin\":true,\"type\":\"pie\"}]},\"layout\":{\"autotypenumbers\":\"strict\",\"colorway\":[\"#636efa\",\"#EF553B\",\"#00cc96\",\"#ab63fa\",\"#FFA15A\",\"#19d3f3\",\"#FF6692\",\"#B6E880\",\"#FF97FF\",\"#FECB52\"],\"font\":{\"color\":\"#2a3f5f\"},\"hovermode\":\"closest\",\"hoverlabel\":{\"align\":\"left\"},\"paper_bgcolor\":\"white\",\"plot_bgcolor\":\"#E5ECF6\",\"polar\":{\"bgcolor\":\"#E5ECF6\",\"angularaxis\":{\"gridcolor\":\"white\",\"linecolor\":\"white\",\"ticks\":\"\"},\"radialaxis\":{\"gridcolor\":\"white\",\"linecolor\":\"white\",\"ticks\":\"\"}},\"ternary\":{\"bgcolor\":\"#E5ECF6\",\"aaxis\":{\"gridcolor\":\"white\",\"linecolor\":\"white\",\"ticks\":\"\"},\"baxis\":{\"gridcolor\":\"white\",\"linecolor\":\"white\",\"ticks\":\"\"},\"caxis\":{\"gridcolor\":\"white\",\"linecolor\":\"white\",\"ticks\":\"\"}},\"coloraxis\":{\"colorbar\":{\"outlinewidth\":0,\"ticks\":\"\"}},\"colorscale\":{\"sequential\":[[0.0,\"#0d0887\"],[0.1111111111111111,\"#46039f\"],[0.2222222222222222,\"#7201a8\"],[0.3333333333333333,\"#9c179e\"],[0.4444444444444444,\"#bd3786\"],[0.5555555555555556,\"#d8576b\"],[0.6666666666666666,\"#ed7953\"],[0.7777777777777778,\"#fb9f3a\"],[0.8888888888888888,\"#fdca26\"],[1.0,\"#f0f921\"]],\"sequentialminus\":[[0.0,\"#0d0887\"],[0.1111111111111111,\"#46039f\"],[0.2222222222222222,\"#7201a8\"],[0.3333333333333333,\"#9c179e\"],[0.4444444444444444,\"#bd3786\"],[0.5555555555555556,\"#d8576b\"],[0.6666666666666666,\"#ed7953\"],[0.7777777777777778,\"#fb9f3a\"],[0.8888888888888888,\"#fdca26\"],[1.0,\"#f0f921\"]],\"diverging\":[[0,\"#8e0152\"],[0.1,\"#c51b7d\"],[0.2,\"#de77ae\"],[0.3,\"#f1b6da\"],[0.4,\"#fde0ef\"],[0.5,\"#f7f7f7\"],[0.6,\"#e6f5d0\"],[0.7,\"#b8e186\"],[0.8,\"#7fbc41\"],[0.9,\"#4d9221\"],[1,\"#276419\"]]},\"xaxis\":{\"gridcolor\":\"white\",\"linecolor\":\"white\",\"ticks\":\"\",\"title\":{\"standoff\":15},\"zerolinecolor\":\"white\",\"automargin\":true,\"zerolinewidth\":2},\"yaxis\":{\"gridcolor\":\"white\",\"linecolor\":\"white\",\"ticks\":\"\",\"title\":{\"standoff\":15},\"zerolinecolor\":\"white\",\"automargin\":true,\"zerolinewidth\":2},\"scene\":{\"xaxis\":{\"backgroundcolor\":\"#E5ECF6\",\"gridcolor\":\"white\",\"linecolor\":\"white\",\"showbackground\":true,\"ticks\":\"\",\"zerolinecolor\":\"white\",\"gridwidth\":2},\"yaxis\":{\"backgroundcolor\":\"#E5ECF6\",\"gridcolor\":\"white\",\"linecolor\":\"white\",\"showbackground\":true,\"ticks\":\"\",\"zerolinecolor\":\"white\",\"gridwidth\":2},\"zaxis\":{\"backgroundcolor\":\"#E5ECF6\",\"gridcolor\":\"white\",\"linecolor\":\"white\",\"showbackground\":true,\"ticks\":\"\",\"zerolinecolor\":\"white\",\"gridwidth\":2}},\"shapedefaults\":{\"line\":{\"color\":\"#2a3f5f\"}},\"annotationdefaults\":{\"arrowcolor\":\"#2a3f5f\",\"arrowhead\":0,\"arrowwidth\":1},\"geo\":{\"bgcolor\":\"white\",\"landcolor\":\"#E5ECF6\",\"subunitcolor\":\"white\",\"showland\":true,\"showlakes\":true,\"lakecolor\":\"white\"},\"title\":{\"x\":0.05},\"mapbox\":{\"style\":\"light\"}}},\"xaxis\":{\"anchor\":\"y\",\"domain\":[0.0,1.0]},\"yaxis\":{\"anchor\":\"x\",\"domain\":[0.55,1.0]},\"xaxis2\":{\"anchor\":\"y2\",\"domain\":[0.0,1.0]},\"yaxis2\":{\"anchor\":\"x2\",\"domain\":[0.0,0.30000000000000004]},\"annotations\":[{\"font\":{\"size\":16},\"showarrow\":false,\"text\":\"Sales Volume vs Revenue by Region\",\"x\":0.5,\"xanchor\":\"center\",\"xref\":\"paper\",\"y\":1.0,\"yanchor\":\"bottom\",\"yref\":\"paper\"},{\"font\":{\"size\":16},\"showarrow\":false,\"text\":\"Seasonal Trends by Category\",\"x\":0.5,\"xanchor\":\"center\",\"xref\":\"paper\",\"y\":0.30000000000000004,\"yanchor\":\"bottom\",\"yref\":\"paper\"}],\"title\":{\"text\":\"E-commerce Sales Dashboard\"},\"updatemenus\":[{\"active\":0,\"buttons\":[{\"args\":[{\"x\":[[100,100,100,100,100,100,100,100,100,100,100,100,100,100,100,100,100,100,100,100,100,100,100,100,100]],\"y\":[[5000,5000,5000,5000,5000,5000,5000,5000,5000,5000,5000,5000,5000,5000,5000,5000,5000,5000,5000,5000,5000,5000,5000,5000,5000]],\"text\":[[\"Region: North\\u003cbr\\u003eRating: 4.5\",\"Region: North\\u003cbr\\u003eRating: 4.5\",\"Region: North\\u003cbr\\u003eRating: 4.5\",\"Region: North\\u003cbr\\u003eRating: 4.5\",\"Region: North\\u003cbr\\u003eRating: 4.5\",\"Region: North\\u003cbr\\u003eRating: 4.5\",\"Region: North\\u003cbr\\u003eRating: 4.5\",\"Region: North\\u003cbr\\u003eRating: 4.5\",\"Region: North\\u003cbr\\u003eRating: 4.5\",\"Region: North\\u003cbr\\u003eRating: 4.5\",\"Region: North\\u003cbr\\u003eRating: 4.5\",\"Region: North\\u003cbr\\u003eRating: 4.5\",\"Region: North\\u003cbr\\u003eRating: 4.5\",\"Region: North\\u003cbr\\u003eRating: 4.5\",\"Region: North\\u003cbr\\u003eRating: 4.5\",\"Region: North\\u003cbr\\u003eRating: 4.5\",\"Region: North\\u003cbr\\u003eRating: 4.5\",\"Region: North\\u003cbr\\u003eRating: 4.5\",\"Region: North\\u003cbr\\u003eRating: 4.5\",\"Region: North\\u003cbr\\u003eRating: 4.5\",\"Region: North\\u003cbr\\u003eRating: 4.5\",\"Region: North\\u003cbr\\u003eRating: 4.5\",\"Region: North\\u003cbr\\u003eRating: 4.5\",\"Region: North\\u003cbr\\u003eRating: 4.5\",\"Region: North\\u003cbr\\u003eRating: 4.5\"]]}],\"label\":\"Jan\",\"method\":\"update\"},{\"args\":[{\"x\":[[200,200,200,200,200,200,200,200,200,200,200,200,200,200,200,200,200,200,200,200,200,200,200,200,200]],\"y\":[[8000,8000,8000,8000,8000,8000,8000,8000,8000,8000,8000,8000,8000,8000,8000,8000,8000,8000,8000,8000,8000,8000,8000,8000,8000]],\"text\":[[\"Region: South\\u003cbr\\u003eRating: 3.8\",\"Region: South\\u003cbr\\u003eRating: 3.8\",\"Region: South\\u003cbr\\u003eRating: 3.8\",\"Region: South\\u003cbr\\u003eRating: 3.8\",\"Region: South\\u003cbr\\u003eRating: 3.8\",\"Region: South\\u003cbr\\u003eRating: 3.8\",\"Region: South\\u003cbr\\u003eRating: 3.8\",\"Region: South\\u003cbr\\u003eRating: 3.8\",\"Region: South\\u003cbr\\u003eRating: 3.8\",\"Region: South\\u003cbr\\u003eRating: 3.8\",\"Region: South\\u003cbr\\u003eRating: 3.8\",\"Region: South\\u003cbr\\u003eRating: 3.8\",\"Region: South\\u003cbr\\u003eRating: 3.8\",\"Region: South\\u003cbr\\u003eRating: 3.8\",\"Region: South\\u003cbr\\u003eRating: 3.8\",\"Region: South\\u003cbr\\u003eRating: 3.8\",\"Region: South\\u003cbr\\u003eRating: 3.8\",\"Region: South\\u003cbr\\u003eRating: 3.8\",\"Region: South\\u003cbr\\u003eRating: 3.8\",\"Region: South\\u003cbr\\u003eRating: 3.8\",\"Region: South\\u003cbr\\u003eRating: 3.8\",\"Region: South\\u003cbr\\u003eRating: 3.8\",\"Region: South\\u003cbr\\u003eRating: 3.8\",\"Region: South\\u003cbr\\u003eRating: 3.8\",\"Region: South\\u003cbr\\u003eRating: 3.8\"]]}],\"label\":\"Feb\",\"method\":\"update\"},{\"args\":[{\"x\":[[150,150,150,150,150,150,150,150,150,150,150,150,150,150,150,150,150,150,150,150,150,150,150,150,150]],\"y\":[[6000,6000,6000,6000,6000,6000,6000,6000,6000,6000,6000,6000,6000,6000,6000,6000,6000,6000,6000,6000,6000,6000,6000,6000,6000]],\"text\":[[\"Region: East\\u003cbr\\u003eRating: 4.2\",\"Region: East\\u003cbr\\u003eRating: 4.2\",\"Region: East\\u003cbr\\u003eRating: 4.2\",\"Region: East\\u003cbr\\u003eRating: 4.2\",\"Region: East\\u003cbr\\u003eRating: 4.2\",\"Region: East\\u003cbr\\u003eRating: 4.2\",\"Region: East\\u003cbr\\u003eRating: 4.2\",\"Region: East\\u003cbr\\u003eRating: 4.2\",\"Region: East\\u003cbr\\u003eRating: 4.2\",\"Region: East\\u003cbr\\u003eRating: 4.2\",\"Region: East\\u003cbr\\u003eRating: 4.2\",\"Region: East\\u003cbr\\u003eRating: 4.2\",\"Region: East\\u003cbr\\u003eRating: 4.2\",\"Region: East\\u003cbr\\u003eRating: 4.2\",\"Region: East\\u003cbr\\u003eRating: 4.2\",\"Region: East\\u003cbr\\u003eRating: 4.2\",\"Region: East\\u003cbr\\u003eRating: 4.2\",\"Region: East\\u003cbr\\u003eRating: 4.2\",\"Region: East\\u003cbr\\u003eRating: 4.2\",\"Region: East\\u003cbr\\u003eRating: 4.2\",\"Region: East\\u003cbr\\u003eRating: 4.2\",\"Region: East\\u003cbr\\u003eRating: 4.2\",\"Region: East\\u003cbr\\u003eRating: 4.2\",\"Region: East\\u003cbr\\u003eRating: 4.2\",\"Region: East\\u003cbr\\u003eRating: 4.2\"]]}],\"label\":\"Mar\",\"method\":\"update\"},{\"args\":[{\"x\":[[300,300,300,300,300,300,300,300,300,300,300,300,300,300,300,300,300,300,300,300,300,300,300,300,300]],\"y\":[[12000,12000,12000,12000,12000,12000,12000,12000,12000,12000,12000,12000,12000,12000,12000,12000,12000,12000,12000,12000,12000,12000,12000,12000,12000]],\"text\":[[\"Region: West\\u003cbr\\u003eRating: 4.0\",\"Region: West\\u003cbr\\u003eRating: 4.0\",\"Region: West\\u003cbr\\u003eRating: 4.0\",\"Region: West\\u003cbr\\u003eRating: 4.0\",\"Region: West\\u003cbr\\u003eRating: 4.0\",\"Region: West\\u003cbr\\u003eRating: 4.0\",\"Region: West\\u003cbr\\u003eRating: 4.0\",\"Region: West\\u003cbr\\u003eRating: 4.0\",\"Region: West\\u003cbr\\u003eRating: 4.0\",\"Region: West\\u003cbr\\u003eRating: 4.0\",\"Region: West\\u003cbr\\u003eRating: 4.0\",\"Region: West\\u003cbr\\u003eRating: 4.0\",\"Region: West\\u003cbr\\u003eRating: 4.0\",\"Region: West\\u003cbr\\u003eRating: 4.0\",\"Region: West\\u003cbr\\u003eRating: 4.0\",\"Region: West\\u003cbr\\u003eRating: 4.0\",\"Region: West\\u003cbr\\u003eRating: 4.0\",\"Region: West\\u003cbr\\u003eRating: 4.0\",\"Region: West\\u003cbr\\u003eRating: 4.0\",\"Region: West\\u003cbr\\u003eRating: 4.0\",\"Region: West\\u003cbr\\u003eRating: 4.0\",\"Region: West\\u003cbr\\u003eRating: 4.0\",\"Region: West\\u003cbr\\u003eRating: 4.0\",\"Region: West\\u003cbr\\u003eRating: 4.0\",\"Region: West\\u003cbr\\u003eRating: 4.0\"]]}],\"label\":\"Apr\",\"method\":\"update\"}],\"x\":1.1,\"y\":1.15}],\"height\":700},                        {\"responsive\": true}                    ).then(function(){\n",
              "                            \n",
              "var gd = document.getElementById('299acd56-9f8f-4914-9849-afb1639a4198');\n",
              "var x = new MutationObserver(function (mutations, observer) {{\n",
              "        var display = window.getComputedStyle(gd).display;\n",
              "        if (!display || display === 'none') {{\n",
              "            console.log([gd, 'removed!']);\n",
              "            Plotly.purge(gd);\n",
              "            observer.disconnect();\n",
              "        }}\n",
              "}});\n",
              "\n",
              "// Listen for the removal of the full notebook cells\n",
              "var notebookContainer = gd.closest('#notebook-container');\n",
              "if (notebookContainer) {{\n",
              "    x.observe(notebookContainer, {childList: true});\n",
              "}}\n",
              "\n",
              "// Listen for the clearing of the current output cell\n",
              "var outputEl = gd.closest('.output');\n",
              "if (outputEl) {{\n",
              "    x.observe(outputEl, {childList: true});\n",
              "}}\n",
              "\n",
              "                        })                };                            </script>        </div>\n",
              "</body>\n",
              "</html>"
            ]
          },
          "metadata": {}
        }
      ]
    }
  ]
}